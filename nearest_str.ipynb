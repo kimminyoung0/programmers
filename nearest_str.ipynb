{
 "cells": [
  {
   "cell_type": "code",
   "execution_count": null,
   "id": "92db1dde",
   "metadata": {},
   "outputs": [],
   "source": []
  },
  {
   "cell_type": "code",
   "execution_count": null,
   "id": "f907a6f4",
   "metadata": {},
   "outputs": [],
   "source": []
  },
  {
   "cell_type": "code",
   "execution_count": null,
   "id": "7673f436",
   "metadata": {},
   "outputs": [],
   "source": []
  },
  {
   "cell_type": "code",
   "execution_count": 10,
   "id": "9c47cd7c",
   "metadata": {},
   "outputs": [],
   "source": [
    "def find_front_s(s, val):\n",
    "    if s.count(val) != 1:\n",
    "        loc = s.find(val)\n",
    "#         print(\"loc\", loc)\n",
    "        s = s[loc+1:]\n",
    "        print(s)\n",
    "        find_front_s(s, val)\n",
    "    else:\n",
    "        print(\"answer\", s.find(val))\n",
    "        return s.find(val)\n",
    "\n",
    "def solution(s):\n",
    "    answer_lst = []\n",
    "    tmp = 0\n",
    "    answer = 0\n",
    "    for idx, val in enumerate(s): #i=1일때 0, i=2일 때 0,1, i=3일때, 0,1,2 \n",
    "        if idx == 0:\n",
    "            answer = -1\n",
    "            print(answer)\n",
    "            answer_lst.append(answer)\n",
    "        ss = s[0:idx-1]\n",
    "        if val not in ss:\n",
    "            answer = -1\n",
    "            print(answer)\n",
    "            answer_lst.append(answer)\n",
    "        elif val in ss:\n",
    "            tmp = find_front_s(ss, val)\n",
    "            print(tmp)\n",
    "            answer = idx - tmp\n",
    "            print(answer)\n",
    "            answer_lst.append(answer)\n",
    "    return answer_lst"
   ]
  },
  {
   "cell_type": "code",
   "execution_count": 11,
   "id": "10b3d6ec",
   "metadata": {},
   "outputs": [
    {
     "name": "stdout",
     "output_type": "stream",
     "text": [
      "answer 0\n",
      "0\n",
      "0\n",
      "answer 1\n",
      "1\n",
      "2\n",
      "answer 2\n",
      "2\n",
      "2\n",
      "loc 1\n",
      "na\n",
      "answer 1\n",
      "None\n"
     ]
    },
    {
     "ename": "TypeError",
     "evalue": "unsupported operand type(s) for -: 'int' and 'NoneType'",
     "output_type": "error",
     "traceback": [
      "\u001b[0;31m---------------------------------------------------------------------------\u001b[0m",
      "\u001b[0;31mTypeError\u001b[0m                                 Traceback (most recent call last)",
      "\u001b[0;32m/var/folders/rc/3jzqjhp56_v2qxb49fkb1x880000gn/T/ipykernel_93298/1742862964.py\u001b[0m in \u001b[0;36m<module>\u001b[0;34m\u001b[0m\n\u001b[0;32m----> 1\u001b[0;31m \u001b[0msolution\u001b[0m\u001b[0;34m(\u001b[0m\u001b[0;34m\"banana\"\u001b[0m\u001b[0;34m)\u001b[0m\u001b[0;34m\u001b[0m\u001b[0;34m\u001b[0m\u001b[0m\n\u001b[0m",
      "\u001b[0;32m/var/folders/rc/3jzqjhp56_v2qxb49fkb1x880000gn/T/ipykernel_93298/3310126301.py\u001b[0m in \u001b[0;36msolution\u001b[0;34m(s)\u001b[0m\n\u001b[1;32m     25\u001b[0m             \u001b[0mtmp\u001b[0m \u001b[0;34m=\u001b[0m \u001b[0mfind_front_s\u001b[0m\u001b[0;34m(\u001b[0m\u001b[0mss\u001b[0m\u001b[0;34m,\u001b[0m \u001b[0mval\u001b[0m\u001b[0;34m)\u001b[0m\u001b[0;34m\u001b[0m\u001b[0;34m\u001b[0m\u001b[0m\n\u001b[1;32m     26\u001b[0m             \u001b[0mprint\u001b[0m\u001b[0;34m(\u001b[0m\u001b[0mtmp\u001b[0m\u001b[0;34m)\u001b[0m\u001b[0;34m\u001b[0m\u001b[0;34m\u001b[0m\u001b[0m\n\u001b[0;32m---> 27\u001b[0;31m             \u001b[0manswer\u001b[0m \u001b[0;34m=\u001b[0m \u001b[0midx\u001b[0m \u001b[0;34m-\u001b[0m \u001b[0mtmp\u001b[0m\u001b[0;34m\u001b[0m\u001b[0;34m\u001b[0m\u001b[0m\n\u001b[0m\u001b[1;32m     28\u001b[0m             \u001b[0mprint\u001b[0m\u001b[0;34m(\u001b[0m\u001b[0manswer\u001b[0m\u001b[0;34m)\u001b[0m\u001b[0;34m\u001b[0m\u001b[0;34m\u001b[0m\u001b[0m\n\u001b[1;32m     29\u001b[0m             \u001b[0manswer_lst\u001b[0m\u001b[0;34m.\u001b[0m\u001b[0mappend\u001b[0m\u001b[0;34m(\u001b[0m\u001b[0manswer\u001b[0m\u001b[0;34m)\u001b[0m\u001b[0;34m\u001b[0m\u001b[0;34m\u001b[0m\u001b[0m\n",
      "\u001b[0;31mTypeError\u001b[0m: unsupported operand type(s) for -: 'int' and 'NoneType'"
     ]
    }
   ],
   "source": [
    "solution(\"banana\")"
   ]
  },
  {
   "cell_type": "code",
   "execution_count": null,
   "id": "bd50bb26",
   "metadata": {},
   "outputs": [],
   "source": []
  }
 ],
 "metadata": {
  "kernelspec": {
   "display_name": "pas",
   "language": "python",
   "name": "pas"
  },
  "language_info": {
   "codemirror_mode": {
    "name": "ipython",
    "version": 3
   },
   "file_extension": ".py",
   "mimetype": "text/x-python",
   "name": "python",
   "nbconvert_exporter": "python",
   "pygments_lexer": "ipython3",
   "version": "3.7.13"
  }
 },
 "nbformat": 4,
 "nbformat_minor": 5
}
