{
 "cells": [
  {
   "cell_type": "markdown",
   "id": "e8f368a1",
   "metadata": {},
   "source": [
    "## 둘만의 암호"
   ]
  },
  {
   "cell_type": "markdown",
   "id": "09e03463",
   "metadata": {},
   "source": [
    "문제 설명\n",
    "\n",
    "두 문자열 s와 skip, 그리고 자연수 index가 주어질 때, 다음 규칙에 따라 문자열을 만들려 합니다. 암호의 규칙은 다음과 같습니다.\n",
    "문자열 s의 각 알파벳을 index만큼 뒤의 알파벳으로 바꿔줍니다.\n",
    "index만큼의 뒤의 알파벳이 z를 넘어갈 경우 다시 a로 돌아갑니다.\n",
    "skip에 있는 알파벳은 제외하고 건너뜁니다.\n",
    "예를 들어 s = \"aukks\", skip = \"wbqd\", index = 5일 때, a에서 5만큼 뒤에 있는 알파벳은 f지만 [b, c, d, e, f]에서 'b'와 'd'는 skip에 포함되므로 세지 않습니다. 따라서 'b', 'd'를 제외하고 'a'에서 5만큼 뒤에 있는 알파벳은 [c, e, f, g, h] 순서에 의해 'h'가 됩니다. 나머지 \"ukks\" 또한 위 규칙대로 바꾸면 \"appy\"가 되며 결과는 \"happy\"가 됩니다.\n",
    "두 문자열 s와 skip, 그리고 자연수 index가 매개변수로 주어질 때 위 규칙대로 s를 변환한 결과를 return하도록 solution 함수를 완성해주세요."
   ]
  },
  {
   "cell_type": "code",
   "execution_count": 52,
   "id": "4f357c5d",
   "metadata": {},
   "outputs": [],
   "source": [
    "def solution(s, skip, index):\n",
    "    alpha = list(set('abcdefghijklmnopqrstuvwxyz')-set(skip))\n",
    "    alpha = sorted(alpha)\n",
    "    s = list(s)\n",
    "    for i,v in enumerate(s):\n",
    "        v_idx = alpha.index(v)\n",
    "        while v_idx >= len(alpha) - index: \n",
    "            v_idx = v_idx - len(alpha) \n",
    "        s[i] = alpha[v_idx+index]\n",
    "        v_idx = 0\n",
    "    s = ''.join(s)\n",
    "    return s"
   ]
  },
  {
   "cell_type": "code",
   "execution_count": 54,
   "id": "ad5b8389",
   "metadata": {},
   "outputs": [
    {
     "name": "stdout",
     "output_type": "stream",
     "text": [
      "v_idx = 0\n",
      "v_idx = 17\n",
      "v_idx = 8\n",
      "v_idx = 8\n",
      "v_idx = 15\n"
     ]
    },
    {
     "data": {
      "text/plain": [
       "\"['h', 'a', 'p', 'p', 'y']\""
      ]
     },
     "execution_count": 54,
     "metadata": {},
     "output_type": "execute_result"
    }
   ],
   "source": [
    "solution('aukks', 'wbqd', 5)"
   ]
  },
  {
   "cell_type": "code",
   "execution_count": null,
   "id": "df9ce88d",
   "metadata": {},
   "outputs": [],
   "source": []
  }
 ],
 "metadata": {
  "kernelspec": {
   "display_name": "pas",
   "language": "python",
   "name": "pas"
  },
  "language_info": {
   "codemirror_mode": {
    "name": "ipython",
    "version": 3
   },
   "file_extension": ".py",
   "mimetype": "text/x-python",
   "name": "python",
   "nbconvert_exporter": "python",
   "pygments_lexer": "ipython3",
   "version": "3.7.13"
  }
 },
 "nbformat": 4,
 "nbformat_minor": 5
}
