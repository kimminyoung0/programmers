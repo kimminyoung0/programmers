{
 "cells": [
  {
   "cell_type": "code",
   "execution_count": null,
   "id": "0d09d1e2",
   "metadata": {},
   "outputs": [],
   "source": []
  },
  {
   "cell_type": "code",
   "execution_count": null,
   "id": "a2b66bed",
   "metadata": {},
   "outputs": [],
   "source": []
  },
  {
   "cell_type": "code",
   "execution_count": null,
   "id": "d0d042e4",
   "metadata": {},
   "outputs": [],
   "source": [
    "pppppppppppppp\n",
    "pppppppppppppppM"
   ]
  },
  {
   "cell_type": "code",
   "execution_count": null,
   "id": "17d55bad",
   "metadata": {},
   "outputs": [],
   "source": [
    "ㅇㅇㅇㅇㅇㅇㅇㅇㅇㅇㅇ"
   ]
  },
  {
   "cell_type": "code",
   "execution_count": null,
   "id": "b42b8be4",
   "metadata": {},
   "outputs": [],
   "source": [
    "dddddddddddd"
   ]
  },
  {
   "cell_type": "code",
   "execution_count": null,
   "id": "59778b11",
   "metadata": {},
   "outputs": [],
   "source": []
  },
  {
   "cell_type": "code",
   "execution_count": null,
   "id": "979deb09",
   "metadata": {},
   "outputs": [],
   "source": []
  }
 ],
 "metadata": {
  "kernelspec": {
   "display_name": "pas",
   "language": "python",
   "name": "pas"
  },
  "language_info": {
   "codemirror_mode": {
    "name": "ipython",
    "version": 3
   },
   "file_extension": ".py",
   "mimetype": "text/x-python",
   "name": "python",
   "nbconvert_exporter": "python",
   "pygments_lexer": "ipython3",
   "version": "3.7.13"
  }
 },
 "nbformat": 4,
 "nbformat_minor": 5
}
