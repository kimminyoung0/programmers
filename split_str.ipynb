{
 "cells": [
  {
   "cell_type": "markdown",
   "id": "9f052cc4",
   "metadata": {},
   "source": [
    "# 문자열 나누기"
   ]
  },
  {
   "cell_type": "markdown",
   "id": "dce0a135",
   "metadata": {},
   "source": [
    "문제 설명\n",
    "\n",
    "문자열 s가 입력되었을 때 다음 규칙을 따라서 이 문자열을 여러 문자열로 분해하려고 합니다.\n",
    "먼저 첫 글자를 읽습니다. 이 글자를 x라고 합시다.\n",
    "이제 이 문자열을 왼쪽에서 오른쪽으로 읽어나가면서, x와 x가 아닌 다른 글자들이 나온 횟수를 각각 셉니다. 처음으로 두 횟수가 같아지는 순간 멈추고, 지금까지 읽은 문자열을 분리합니다.\n",
    "s에서 분리한 문자열을 빼고 남은 부분에 대해서 이 과정을 반복합니다. 남은 부분이 없다면 종료합니다.\n",
    "만약 두 횟수가 다른 상태에서 더 이상 읽을 글자가 없다면, 역시 지금까지 읽은 문자열을 분리하고, 종료합니다.\n",
    "문자열 s가 매개변수로 주어질 때, 위 과정과 같이 문자열들로 분해하고, 분해한 문자열의 개수를 return 하는 함수 solution을 완성하세요."
   ]
  },
  {
   "cell_type": "code",
   "execution_count": null,
   "id": "35a29e3e",
   "metadata": {},
   "outputs": [],
   "source": [
    "def solution(s):\n",
    "    lst = []\n",
    "    while(len(s) > 1):\n",
    "        x_cnt = 0\n",
    "        notx_cnt = 0\n",
    "        x = s[0]\n",
    "        for i in range(len(s)):\n",
    "            pointer = s[i] \n",
    "            if x == pointer:\n",
    "                x_cnt += 1\n",
    "            else:\n",
    "                notx_cnt += 1\n",
    "            if x_cnt == notx_cnt:\n",
    "                sep = s[:i+1]\n",
    "                lst.append(sep)\n",
    "                s = s[i+1:]\n",
    "                if len(s) == 1:\n",
    "                    lst.append(s)\n",
    "                break\n",
    "\n",
    "    return len(lst)"
   ]
  },
  {
   "cell_type": "code",
   "execution_count": null,
   "id": "d9a84030",
   "metadata": {},
   "outputs": [],
   "source": [
    "def solution(s):\n",
    "    lst = 0\n",
    "    while(len(s) > 1):\n",
    "        x_cnt = 0\n",
    "        notx_cnt = 0\n",
    "        x = s[0]\n",
    "        \n",
    "        for i in range(len(s)): #s가 길어진다면 for문을 돌리는게 너무 힘들 것 같다.\n",
    "            pointer = s[i] \n",
    "            \n",
    "            if x == pointer:\n",
    "                x_cnt += 1\n",
    "            else:\n",
    "                notx_cnt += 1\n",
    "            \n",
    "            if x_cnt == notx_cnt:\n",
    "                sep = s[:i+1]\n",
    "                lst += 1\n",
    "                s = s[i+1:]\n",
    "                \n",
    "                if len(s) == 1:\n",
    "                    lst += 1\n",
    "                \n",
    "                break\n",
    "\n",
    "    return lst"
   ]
  },
  {
   "cell_type": "code",
   "execution_count": null,
   "id": "be427f08",
   "metadata": {},
   "outputs": [],
   "source": [
    "def solution(s): #x는 a, \"aaabbacc ccab ba\" \n",
    "    lst = 0\n",
    "    while(len(s) > 1):\n",
    "        x = s[0]\n",
    "        \n",
    "        for i in range(len(s)): #s가 길어진다면 for문을 돌리는게 너무 힘들 것 같다.\n",
    "            s = s[:i+1] #a aa aaa aaab aaabb aaabba aaabbac aaabbacc\n",
    "            if s.count(x)*2 == len(s):\n",
    "                lst += 1\n",
    "                s = s[i+1:]\n",
    "                if len(s) == 1:\n",
    "                    lst += 1\n",
    "            break\n",
    "                    \n",
    "    return lst"
   ]
  },
  {
   "cell_type": "code",
   "execution_count": 12,
   "id": "0b885b05",
   "metadata": {},
   "outputs": [],
   "source": [
    "def solution(s): #x는 a, \"aaabbacc ccab ba\" \n",
    "    lst = 0\n",
    "    while(len(s) > 1):\n",
    "        x = s[0]\n",
    "        for i in range(len(s)):\n",
    "            sep = s[:i+1] #a aa aaa aaab aaabb aaabba aaabbac aaabbacc\n",
    "            print(sep)\n",
    "            if sep.count(x)*2 == len(sep):\n",
    "                lst += 1\n",
    "                print(lst)\n",
    "                s = s[i+1:]\n",
    "                break\n",
    "                if len(s) == 1:\n",
    "                    lst += 1\n",
    "            else:\n",
    "                continue      \n",
    "    return lst"
   ]
  },
  {
   "cell_type": "code",
   "execution_count": 13,
   "id": "f7f549b9",
   "metadata": {},
   "outputs": [
    {
     "name": "stdout",
     "output_type": "stream",
     "text": [
      "a\n",
      "aa\n",
      "aaa\n",
      "aaab\n",
      "aaabb\n",
      "aaabba\n",
      "aaabbac\n",
      "aaabbacc\n",
      "1\n",
      "c\n",
      "cc\n",
      "cca\n",
      "ccab\n",
      "2\n",
      "b\n",
      "ba\n",
      "3\n"
     ]
    },
    {
     "data": {
      "text/plain": [
       "3"
      ]
     },
     "execution_count": 13,
     "metadata": {},
     "output_type": "execute_result"
    }
   ],
   "source": [
    "solution(\"aaabbaccccabba\")"
   ]
  },
  {
   "cell_type": "code",
   "execution_count": null,
   "id": "89aa82d5",
   "metadata": {},
   "outputs": [],
   "source": []
  },
  {
   "cell_type": "code",
   "execution_count": null,
   "id": "6d73e951",
   "metadata": {},
   "outputs": [],
   "source": []
  }
 ],
 "metadata": {
  "kernelspec": {
   "display_name": "pas",
   "language": "python",
   "name": "pas"
  },
  "language_info": {
   "codemirror_mode": {
    "name": "ipython",
    "version": 3
   },
   "file_extension": ".py",
   "mimetype": "text/x-python",
   "name": "python",
   "nbconvert_exporter": "python",
   "pygments_lexer": "ipython3",
   "version": "3.7.13"
  }
 },
 "nbformat": 4,
 "nbformat_minor": 5
}
