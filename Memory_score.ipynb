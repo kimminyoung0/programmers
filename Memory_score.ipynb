{
 "cells": [
  {
   "cell_type": "markdown",
   "id": "8197cdd0",
   "metadata": {},
   "source": [
    "## 추억 점수"
   ]
  },
  {
   "cell_type": "markdown",
   "id": "d20fa7eb",
   "metadata": {},
   "source": [
    "문제설명 \n",
    "\n",
    "사진들을 보며 추억에 젖어 있던 루는 사진별로 추억 점수를 매길려고 합니다. 사진 속에 나오는 인물의 그리움 점수를 모두 합산한 값이 해당 사진의 추억 점수가 됩니다. 예를 들어 사진 속 인물의 이름이 [\"may\", \"kein\", \"kain\"]이고 각 인물의 그리움 점수가 [5점, 10점, 1점]일 때 해당 사진의 추억 점수는 16(5 + 10 + 1)점이 됩니다. 다른 사진 속 인물의 이름이 [\"kali\", \"mari\", \"don\", \"tony\"]이고 [\"kali\", \"mari\", \"don\"]의 그리움 점수가 각각 [11점, 1점, 55점]]이고, \"tony\"는 그리움 점수가 없을 때, 이 사진의 추억 점수는 3명의 그리움 점수를 합한 67(11 + 1 + 55)점입니다.\n",
    "그리워하는 사람의 이름을 담은 문자열 배열 name, 각 사람별 그리움 점수를 담은 정수 배열 yearning, 각 사진에 찍힌 인물의 이름을 담은 이차원 문자열 배열 photo가 매개변수로 주어질 때, 사진들의 추억 점수를 photo에 주어진 순서대로 배열에 담아 return하는 solution 함수를 완성해주세요."
   ]
  },
  {
   "cell_type": "markdown",
   "id": "5ab5306e",
   "metadata": {},
   "source": [
    "제한사항\n",
    "3 ≤ name의 길이 = yearning의 길이≤ 100\n",
    "3 ≤ name의 원소의 길이 ≤ 7\n",
    "name의 원소들은 알파벳 소문자로만 이루어져 있습니다.\n",
    "name에는 중복된 값이 들어가지 않습니다.\n",
    "1 ≤ yearning[i] ≤ 100\n",
    "yearning[i]는 i번째 사람의 그리움 점수입니다.\n",
    "3 ≤ photo의 길이 ≤ 100\n",
    "1 ≤ photo[i]의 길이 ≤ 100\n",
    "3 ≤ photo[i]의 원소(문자열)의 길이 ≤ 7\n",
    "photo[i]의 원소들은 알파벳 소문자로만 이루어져 있습니다.\n",
    "photo[i]의 원소들은 중복된 값이 들어가지 않습니다."
   ]
  },
  {
   "cell_type": "markdown",
   "id": "dbeb2a8c",
   "metadata": {},
   "source": [
    "입출력 예\n",
    "\n",
    "name\tyearning\tphoto\tresult\n",
    "\n",
    "[\"may\", \"kein\", \"kain\", \"radi\"]\t[5, 10, 1, 3]\n",
    "[[\"may\", \"kein\", \"kain\", \"radi\"],[\"may\", \"kein\", \"brin\", \"deny\"], [\"kon\", \"kain\", \"may\", \"coni\"]]\t[19, 15, 6]\n",
    "\n",
    "[\"kali\", \"mari\", \"don\"]\t[11, 1, 55]\t[[\"kali\", \"mari\", \"don\"], [\"pony\", \"tom\", \"teddy\"], [\"con\", \"mona\", \"don\"]]\t[67, 0, 55]\n",
    "\n",
    "\n",
    "[\"may\", \"kein\", \"kain\", \"radi\"]\t[5, 10, 1, 3]\t[[\"may\"],[\"kein\", \"deny\", \"may\"], [\"kon\", \"coni\"]]\t[5, 15, 0]"
   ]
  },
  {
   "cell_type": "code",
   "execution_count": null,
   "id": "4528fd9c",
   "metadata": {},
   "outputs": [],
   "source": [
    "def solution(name, yearning, photo):\n",
    "    answer = []\n",
    "    sum = 0\n",
    "    dic = dict(zip(name, yearning))\n",
    "    for i in range(len(photo)):\n",
    "        for j in photo[i]:\n",
    "            if dic.get(j) is None:\n",
    "                continue\n",
    "            sum += dic.get(j)\n",
    "        answer.append(sum)\n",
    "        sum = 0\n",
    "    return answer"
   ]
  },
  {
   "cell_type": "code",
   "execution_count": 4,
   "id": "e07e9250",
   "metadata": {},
   "outputs": [
    {
     "name": "stdout",
     "output_type": "stream",
     "text": [
      "('a', 1)\n",
      "('b', 2)\n",
      "('c', 3)\n"
     ]
    }
   ],
   "source": [
    "num = [1,2,3]\n",
    "abc = ['a', 'b', 'c']\n",
    "for i in zip(abc, num):\n",
    "    print(i)"
   ]
  },
  {
   "cell_type": "code",
   "execution_count": 5,
   "id": "43ba4de0",
   "metadata": {},
   "outputs": [],
   "source": [
    "dic = dict(zip(abc, num))"
   ]
  },
  {
   "cell_type": "code",
   "execution_count": 6,
   "id": "dacc1768",
   "metadata": {},
   "outputs": [
    {
     "name": "stdout",
     "output_type": "stream",
     "text": [
      "3\n"
     ]
    }
   ],
   "source": [
    "print(dic['c'])"
   ]
  },
  {
   "cell_type": "code",
   "execution_count": 7,
   "id": "388144c4",
   "metadata": {},
   "outputs": [
    {
     "ename": "KeyError",
     "evalue": "'d'",
     "output_type": "error",
     "traceback": [
      "\u001b[0;31m---------------------------------------------------------------------------\u001b[0m",
      "\u001b[0;31mKeyError\u001b[0m                                  Traceback (most recent call last)",
      "Input \u001b[0;32mIn [7]\u001b[0m, in \u001b[0;36m<cell line: 1>\u001b[0;34m()\u001b[0m\n\u001b[0;32m----> 1\u001b[0m \u001b[38;5;28mprint\u001b[39m(\u001b[43mdic\u001b[49m\u001b[43m[\u001b[49m\u001b[38;5;124;43m'\u001b[39;49m\u001b[38;5;124;43md\u001b[39;49m\u001b[38;5;124;43m'\u001b[39;49m\u001b[43m]\u001b[49m)\n",
      "\u001b[0;31mKeyError\u001b[0m: 'd'"
     ]
    }
   ],
   "source": [
    "print(dic['d'])"
   ]
  },
  {
   "cell_type": "code",
   "execution_count": 8,
   "id": "34635769",
   "metadata": {},
   "outputs": [
    {
     "name": "stdout",
     "output_type": "stream",
     "text": [
      "None\n"
     ]
    }
   ],
   "source": [
    "print(dic.get('d'))"
   ]
  },
  {
   "cell_type": "code",
   "execution_count": 10,
   "id": "a5c1c415",
   "metadata": {},
   "outputs": [
    {
     "name": "stdout",
     "output_type": "stream",
     "text": [
      "0\n"
     ]
    }
   ],
   "source": [
    "print(dic.get('d', 0))"
   ]
  }
 ],
 "metadata": {
  "kernelspec": {
   "display_name": "smartfactory",
   "language": "python",
   "name": "smartfactory"
  },
  "language_info": {
   "codemirror_mode": {
    "name": "ipython",
    "version": 3
   },
   "file_extension": ".py",
   "mimetype": "text/x-python",
   "name": "python",
   "nbconvert_exporter": "python",
   "pygments_lexer": "ipython3",
   "version": "3.9.12"
  }
 },
 "nbformat": 4,
 "nbformat_minor": 5
}
