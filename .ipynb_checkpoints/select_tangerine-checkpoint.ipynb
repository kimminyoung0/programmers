{
 "cells": [
  {
   "cell_type": "markdown",
   "id": "d905ec4b",
   "metadata": {},
   "source": [
    "문제 설명\n",
    "\n",
    "경화는 과수원에서 귤을 수확했습니다. 경화는 수확한 귤 중 'k'개를 골라 상자 하나에 담아 판매하려고 합니다. 그런데 수확한 귤의 크기가 일정하지 않아 보기에 좋지 않다고 생각한 경화는 귤을 크기별로 분류했을 때 서로 다른 종류의 수를 최소화하고 싶습니다.\n",
    "예를 들어, 경화가 수확한 귤 8개의 크기가 [1, 3, 2, 5, 4, 5, 2, 3] 이라고 합시다. 경화가 귤 6개를 판매하고 싶다면, 크기가 1, 4인 귤을 제외한 여섯 개의 귤을 상자에 담으면, 귤의 크기의 종류가 2, 3, 5로 총 3가지가 되며 이때가 서로 다른 종류가 최소일 때입니다.\n",
    "경화가 한 상자에 담으려는 귤의 개수 k와 귤의 크기를 담은 배열 tangerine이 매개변수로 주어집니다. 경화가 귤 k개를 고를 때 크기가 서로 다른 종류의 수의 최솟값을 return 하도록 solution 함수를 작성해주세요."
   ]
  },
  {
   "cell_type": "markdown",
   "id": "b2e2b8db",
   "metadata": {},
   "source": [
    "제한사항\n",
    "1 ≤ k ≤ tangerine의 길이 ≤ 100,000\n",
    "1 ≤ tangerine의 원소 ≤ 10,000,000"
   ]
  },
  {
   "cell_type": "markdown",
   "id": "8c296f3a",
   "metadata": {},
   "source": [
    "입출력 예\n",
    "\n",
    "k\ttangerine\tresult\n",
    "\n",
    "6\t[1, 3, 2, 5, 4, 5, 2, 3]\t3\n",
    "\n",
    "4\t[1, 3, 2, 5, 4, 5, 2, 3]\t2\n",
    "\n",
    "2\t[1, 1, 1, 1, 2, 2, 2, 3]    1"
   ]
  },
  {
   "cell_type": "markdown",
   "id": "81da144a",
   "metadata": {},
   "source": [
    "입출력 예 설명\n",
    "\n",
    "입출력 예 #2\n",
    "\n",
    "경화는 크기가 2인 귤 2개와 3인 귤 2개 또는 2인 귤 2개와 5인 귤 2개 또는 3인 귤 2개와 5인 귤 2개로 귤을 판매할 수 있습니다. 이때의 크기 종류는 2가지로 이 값이 최소가 됩니다.\n",
    "\n",
    "입출력 예 #3\n",
    "\n",
    "경화는 크기가 1인 귤 2개를 판매하거나 2인 귤 2개를 판매할 수 있습니다. 이때의 크기 종류는 1가지로, 이 값이 최소가 됩니다."
   ]
  },
  {
   "cell_type": "code",
   "execution_count": 1,
   "id": "2decf545",
   "metadata": {},
   "outputs": [],
   "source": [
    "from collections import Counter\n",
    "\n",
    "def get_key(x):\n",
    "    return x[1]\n",
    "def solution(k, tangerine):\n",
    "    cnt = Counter(tangerine)\n",
    "    \n",
    "    a = 0\n",
    "    b = 0\n",
    "    for i,v in sorted(cnt.items(), key= get_key, reverse = True):\n",
    "        a += v\n",
    "        b += 1\n",
    "        if a >= k:\n",
    "            answer = b\n",
    "            break\n",
    "\n",
    "    return answer"
   ]
  }
 ],
 "metadata": {
  "kernelspec": {
   "display_name": "pas",
   "language": "python",
   "name": "pas"
  },
  "language_info": {
   "codemirror_mode": {
    "name": "ipython",
    "version": 3
   },
   "file_extension": ".py",
   "mimetype": "text/x-python",
   "name": "python",
   "nbconvert_exporter": "python",
   "pygments_lexer": "ipython3",
   "version": "3.7.13"
  }
 },
 "nbformat": 4,
 "nbformat_minor": 5
}
