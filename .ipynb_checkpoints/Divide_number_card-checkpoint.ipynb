{
 "cells": [
  {
   "cell_type": "markdown",
   "id": "1aa7617f",
   "metadata": {},
   "source": [
    "## 숫자 카드 나누기"
   ]
  },
  {
   "cell_type": "markdown",
   "id": "34b5721c",
   "metadata": {},
   "source": [
    "문제 설명\n",
    "\n",
    "철수와 영희는 선생님으로부터 숫자가 하나씩 적힌 카드들을 절반씩 나눠서 가진 후, 다음 두 조건 중 하나를 만족하는 가장 큰 양의 정수 a의 값을 구하려고 합니다.\n",
    "철수가 가진 카드들에 적힌 모든 숫자를 나눌 수 있고 영희가 가진 카드들에 적힌 모든 숫자들 중 하나도 나눌 수 없는 양의 정수 a\n",
    "영희가 가진 카드들에 적힌 모든 숫자를 나눌 수 있고, 철수가 가진 카드들에 적힌 모든 숫자들 중 하나도 나눌 수 없는 양의 정수 a\n",
    "예를 들어, 카드들에 10, 5, 20, 17이 적혀 있는 경우에 대해 생각해 봅시다. 만약, 철수가 [10, 17]이 적힌 카드를 갖고, 영희가 [5, 20]이 적힌 카드를 갖는다면 두 조건 중 하나를 만족하는 양의 정수 a는 존재하지 않습니다. 하지만, 철수가 [10, 20]이 적힌 카드를 갖고, 영희가 [5, 17]이 적힌 카드를 갖는다면, 철수가 가진 카드들의 숫자는 모두 10으로 나눌 수 있고, 영희가 가진 카드들의 숫자는 모두 10으로 나눌 수 없습니다. 따라서 철수와 영희는 각각 [10, 20]이 적힌 카드, [5, 17]이 적힌 카드로 나눠 가졌다면 조건에 해당하는 양의 정수 a는 10이 됩니다.\n",
    "철수가 가진 카드에 적힌 숫자들을 나타내는 정수 배열 arrayA와 영희가 가진 카드에 적힌 숫자들을 나타내는 정수 배열 arrayB가 주어졌을 때, 주어진 조건을 만족하는 가장 큰 양의 정수 a를 return하도록 solution 함수를 완성해 주세요. 만약, 조건을 만족하는 a가 없다면, 0을 return 해 주세요."
   ]
  },
  {
   "cell_type": "markdown",
   "id": "b7947ecd",
   "metadata": {},
   "source": [
    "제한사항\n",
    "\n",
    "1 ≤ arrayA의 길이 = arrayB의 길이 ≤ 500,000\n",
    "\n",
    "1 ≤ arrayA의 원소, arrayB의 원소 ≤ 100,000,000\n",
    "\n",
    "arrayA와 arrayB에는 중복된 원소가 있을 수 있습니다."
   ]
  },
  {
   "cell_type": "markdown",
   "id": "3a8f84b3",
   "metadata": {},
   "source": [
    "입출력 예\n",
    "\n",
    "arrayA\tarrayB\tresult\n",
    "\n",
    "[10, 17]\t[5, 20]\t0\n",
    "\n",
    "[10, 20]\t[5, 17]\t10\n",
    "\n",
    "[14, 35, 119]\t[18, 30, 102]\t7"
   ]
  },
  {
   "cell_type": "markdown",
   "id": "3d9980f6",
   "metadata": {},
   "source": [
    "입출력 예 #3\n",
    "\n",
    "철수가 가진 카드에 적힌 숫자들은 모두 3으로 나눌 수 없고, 영희가 가진 카드에 적힌 숫자는 모두 3으로 나눌 수 있습니다. 따라서 3은 조건에 해당하는 양의 정수입니다. 하지만, 철수가 가진 카드들에 적힌 숫자들은 모두 7로 나눌 수 있고, 영희가 가진 카드들에 적힌 숫자는 모두 7로 나눌 수 없습니다. 따라서 최대값인 7을 return 합니다."
   ]
  },
  {
   "cell_type": "code",
   "execution_count": 3,
   "id": "99211ccd",
   "metadata": {},
   "outputs": [],
   "source": [
    "import math\n",
    "\n",
    "def findgcd(array):\n",
    "    gcd = array[0]\n",
    "    for i in range(1, len(array)):\n",
    "        gcd = math.gcd(gcd, array[i])\n",
    "    return gcd\n",
    "    \n",
    "def solution(arrayA, arrayB):\n",
    "    num_a = findgcd(arrayA) #1\n",
    "    num_b = findgcd(arrayB) #5\n",
    "\n",
    "    for a in arrayA:\n",
    "        if a % num_b == 0: #배열 a 요소들이 나눠지는지 확인\n",
    "            num_b = 0\n",
    "            break\n",
    "        else: \n",
    "            continue #배열 a 첫 요소가 나눠지지 않는다면\n",
    "    for b in arrayB: #배열 b요소들이 나눠지는지 확인\n",
    "        if b % num_a == 0: #b 요소들을 차례로 나눠보지만 나눠지면 0을 반환\n",
    "            num_a = 0\n",
    "            break\n",
    "        else: \n",
    "            continue #b의 요소들이 나눠지지 않으면 더 큰 최대 공약수 반환\n",
    "    return max(num_a, num_b)"
   ]
  },
  {
   "cell_type": "code",
   "execution_count": null,
   "id": "cd436ce6",
   "metadata": {},
   "outputs": [],
   "source": []
  }
 ],
 "metadata": {
  "kernelspec": {
   "display_name": "pas",
   "language": "python",
   "name": "pas"
  },
  "language_info": {
   "codemirror_mode": {
    "name": "ipython",
    "version": 3
   },
   "file_extension": ".py",
   "mimetype": "text/x-python",
   "name": "python",
   "nbconvert_exporter": "python",
   "pygments_lexer": "ipython3",
   "version": "3.7.13"
  }
 },
 "nbformat": 4,
 "nbformat_minor": 5
}
