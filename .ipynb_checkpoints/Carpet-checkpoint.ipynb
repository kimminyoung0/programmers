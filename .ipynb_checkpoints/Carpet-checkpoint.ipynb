{
 "cells": [
  {
   "cell_type": "markdown",
   "id": "90edfb30",
   "metadata": {},
   "source": [
    "## 카펫"
   ]
  },
  {
   "cell_type": "markdown",
   "id": "16e3e077",
   "metadata": {},
   "source": [
    "문제 설명\n",
    "\n",
    "Leo는 카펫을 사러 갔다가 아래 그림과 같이 중앙에는 노란색으로 칠해져 있고 테두리 1줄은 갈색으로 칠해져 있는 격자 모양 카펫을 봤습니다.\n",
    "\n",
    "Leo는 집으로 돌아와서 아까 본 카펫의 노란색과 갈색으로 색칠된 격자의 개수는 기억했지만, 전체 카펫의 크기는 기억하지 못했습니다.\n",
    "\n",
    "Leo가 본 카펫에서 갈색 격자의 수 brown, 노란색 격자의 수 yellow가 매개변수로 주어질 때 카펫의 가로, 세로 크기를 순서대로 배열에 담아 return 하도록 solution 함수를 작성해주세요.\n",
    "\n",
    "제한사항\n",
    "\n",
    "갈색 격자의 수 brown은 8 이상 5,000 이하인 자연수입니다.\n",
    "\n",
    "노란색 격자의 수 yellow는 1 이상 2,000,000 이하인 자연수입니다.\n",
    "\n",
    "카펫의 가로 길이는 세로 길이와 같거나, 세로 길이보다 깁니다.\n",
    "\n",
    "\n"
   ]
  },
  {
   "cell_type": "markdown",
   "id": "18aa5496",
   "metadata": {},
   "source": [
    "입출력 예\n",
    "\n",
    "brown\tyellow\treturn\n",
    "\n",
    "10\t    2\t[4, 3]\n",
    "8\t    1\t[3, 3]\n",
    "24\t    24\t[8, 6]"
   ]
  },
  {
   "cell_type": "code",
   "execution_count": null,
   "id": "2dc2f51b",
   "metadata": {},
   "outputs": [],
   "source": [
    "def solution(brown, yellow):\n",
    "    answer = []\n",
    "    answer_ap = answer.append\n",
    "    wph = (brown + 4) // 2\n",
    "    wmh = brown + yellow\n",
    "    for i in range(wph):\n",
    "        if (wph - i) * i == wmh:\n",
    "            answer_ap(wph - i)\n",
    "            answer_ap(i)\n",
    "            break\n",
    "    \n",
    "    return answer"
   ]
  }
 ],
 "metadata": {
  "kernelspec": {
   "display_name": "pas",
   "language": "python",
   "name": "pas"
  },
  "language_info": {
   "codemirror_mode": {
    "name": "ipython",
    "version": 3
   },
   "file_extension": ".py",
   "mimetype": "text/x-python",
   "name": "python",
   "nbconvert_exporter": "python",
   "pygments_lexer": "ipython3",
   "version": "3.7.13"
  }
 },
 "nbformat": 4,
 "nbformat_minor": 5
}
