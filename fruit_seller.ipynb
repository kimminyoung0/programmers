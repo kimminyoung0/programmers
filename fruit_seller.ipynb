{
 "cells": [
  {
   "cell_type": "markdown",
   "id": "8b903fdd",
   "metadata": {},
   "source": [
    "## 과일 장수"
   ]
  },
  {
   "cell_type": "markdown",
   "id": "fb69a74a",
   "metadata": {},
   "source": [
    "문제 설명\n",
    "\n",
    "과일 장수가 사과 상자를 포장하고 있습니다. 사과는 상태에 따라 1점부터 k점까지의 점수로 분류하며, k점이 최상품의 사과이고 1점이 최하품의 사과입니다. 사과 한 상자의 가격은 다음과 같이 결정됩니다.\n",
    "한 상자에 사과를 m개씩 담아 포장합니다.\n",
    "상자에 담긴 사과 중 가장 낮은 점수가 p (1 ≤ p ≤ k)점인 경우, 사과 한 상자의 가격은 p * m 입니다.\n",
    "과일 장수가 가능한 많은 사과를 팔았을 때, 얻을 수 있는 최대 이익을 계산하고자 합니다.(사과는 상자 단위로만 판매하며, 남는 사과는 버립니다)\n",
    "예를 들어, k = 3, m = 4, 사과 7개의 점수가 [1, 2, 3, 1, 2, 3, 1]이라면, 다음과 같이 [2, 3, 2, 3]으로 구성된 사과 상자 1개를 만들어 판매하여 최대 이익을 얻을 수 있습니다.\n",
    "(최저 사과 점수) x (한 상자에 담긴 사과 개수) x (상자의 개수) = 2 x 4 x 1 = 8\n",
    "사과의 최대 점수 k, 한 상자에 들어가는 사과의 수 m, 사과들의 점수 score가 주어졌을 때, 과일 장수가 얻을 수 있는 최대 이익을 return하는 solution 함수를 완성해주세요."
   ]
  },
  {
   "cell_type": "markdown",
   "id": "87edb17a",
   "metadata": {},
   "source": [
    "제한사항\n",
    "\n",
    "3 ≤ k ≤ 9\n",
    "\n",
    "3 ≤ m ≤ 10\n",
    "\n",
    "7 ≤ score의 길이 ≤ 1,000,000\n",
    "\n",
    "1 ≤ score[i] ≤ k\n",
    "\n",
    "이익이 발생하지 않는 경우에는 0을 return 해주세요."
   ]
  },
  {
   "cell_type": "markdown",
   "id": "4d9f0e9f",
   "metadata": {},
   "source": [
    "입출력 예 #2\n",
    "다음과 같이 사과 상자를 포장하여 모두 팔면 최대 이익을 낼 수 있습니다.\n",
    "\n",
    "사과 상자\t//가격\n",
    "\n",
    "[1, 1, 2]\t//1 x 3 = 3\n",
    "\n",
    "[2, 2, 2]\t//2 x 3 = 6\n",
    "\n",
    "[4, 4, 4]\t//4 x 3 = 12\n",
    "\n",
    "[4, 4, 4]\t//4 x 3 = 12\n",
    "\n",
    "따라서 (1 x 3 x 1) + (2 x 3 x 1) + (4 x 3 x 2) = 33을 return합니다."
   ]
  },
  {
   "cell_type": "code",
   "execution_count": null,
   "id": "7b4ccd8c",
   "metadata": {},
   "outputs": [],
   "source": [
    "def lst_split(lst, m):\n",
    "    return [lst[i:i+m] for i in range(0, len(lst), m)]\n",
    "\n",
    "\n",
    "def solution(k, m, score): #가장 높은 점수는 k점,그 바로 아래 점수가 p,이익은 p x m x상자개수\n",
    "    answer = 0\n",
    "    if len(score) < m:\n",
    "        return 0\n",
    "    score.sort() #1112233\n",
    "    score.reverse() #3322111\n",
    "    #score 리스트의 요소들을 m개씩 나누고,각각의 상자마다 가장 점수가 낮은 점수들을 더해서 이익을 낸다\n",
    "    #박스 개수\n",
    "    box_num = len(score) // m #7//4=1\n",
    "    box = lst_split(score, m) #box리스트 [[3,3,2,2],[1,1,1]]\n",
    "    for i in range(box_num):\n",
    "        answer += box[i][m-1]*m\n",
    "    return answer"
   ]
  }
 ],
 "metadata": {
  "kernelspec": {
   "display_name": "pas",
   "language": "python",
   "name": "pas"
  },
  "language_info": {
   "codemirror_mode": {
    "name": "ipython",
    "version": 3
   },
   "file_extension": ".py",
   "mimetype": "text/x-python",
   "name": "python",
   "nbconvert_exporter": "python",
   "pygments_lexer": "ipython3",
   "version": "3.7.13"
  }
 },
 "nbformat": 4,
 "nbformat_minor": 5
}
