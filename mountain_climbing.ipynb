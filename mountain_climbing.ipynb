{
 "cells": [
  {
   "cell_type": "markdown",
   "id": "8aa3d320",
   "metadata": {},
   "source": [
    "등산코스 정하기"
   ]
  },
  {
   "cell_type": "code",
   "execution_count": null,
   "id": "c74d3266",
   "metadata": {},
   "outputs": [],
   "source": [
    "solution(7, [[1, 4, 4], [1, 6, 1], [1, 7, 3], [2, 5, 2], [3, 7, 4], [5, 6, 6]], [1], [2,3,4])"
   ]
  },
  {
   "cell_type": "code",
   "execution_count": null,
   "id": "2a7d76e4",
   "metadata": {},
   "outputs": [],
   "source": [
    "def solution(n, paths, gates, summits):\n",
    "    answer = []\n",
    "    route = [] #2차원 리스트를 넣는다.\n",
    "    tot_route = []\n",
    "    for i in gates: #어느 출입구에서 출발할 것인지\n",
    "        #i = 1, 1번 gate에서 출발\n",
    "        route.append(i)\n",
    "        for j in paths: #여기서 j는 [1,4,4] [1,6,1]\n",
    "            if j[0] == i:\n",
    "                route.append(j[1])\n",
    "                if j[1] in summits:\n",
    "                    \n",
    "                \n",
    "                \n",
    "                \n",
    "                \n",
    "        \n",
    "    return answer"
   ]
  },
  {
   "cell_type": "code",
   "execution_count": null,
   "id": "02f8b050",
   "metadata": {},
   "outputs": [],
   "source": [
    "from collections import deque\n",
    "def solution(n, paths, gates, summits):\n",
    "    answer = []\n",
    "    #하나의 루트\n",
    "    route = deque() #2차원 리스트를 넣는다.\n",
    "    route_lst = []\n",
    "    inte = 0\n",
    "    inte_lst = []\n",
    "    now = 0\n",
    "    #출발지 설정, 게이트 별로 intensity를 구하고, 비교하는 방식\n",
    "    for i in gates:\n",
    "        route.append(i)\n",
    "        now = i\n",
    "        print(\"현재지점은 \", i)\n",
    "        #paths로 넘어가서 경로 탐색\n",
    "        for idx,p in enumerate(paths):\n",
    "            #게이트에서 이어진다면,\n",
    "            if p[0] == now:\n",
    "                route.append(p[1])\n",
    "                print(p[1], \"append\")\n",
    "                inte = p[2]\n",
    "                inte_list.append(inte)\n",
    "            if p[1] in summits:\n",
    "                print(p[1],\"산봉우리에 도착\")\n",
    "                break\n",
    "                \n",
    "            now = p[1]\n",
    "        route_lst.append(route)\n",
    "        inte\n",
    "    \n",
    "    \n",
    "                \n",
    "        \n",
    "    return answer"
   ]
  },
  {
   "cell_type": "code",
   "execution_count": 4,
   "id": "0b951451",
   "metadata": {},
   "outputs": [
    {
     "name": "stdout",
     "output_type": "stream",
     "text": [
      "[1, 4, 4]\n",
      "k 1\n",
      "k 4\n",
      "k 4\n",
      "[1, 6, 1]\n",
      "k 1\n",
      "k 6\n",
      "k 1\n",
      "[1, 7, 3]\n",
      "k 1\n",
      "k 7\n",
      "k 3\n",
      "[2, 5, 2]\n",
      "k 2\n",
      "k 5\n",
      "k 2\n",
      "[3, 7, 4]\n",
      "k 3\n",
      "k 7\n",
      "k 4\n",
      "[5, 6, 6]\n",
      "k 5\n",
      "k 6\n",
      "k 6\n",
      "[1, 4, 4]\n"
     ]
    }
   ],
   "source": [
    "paths = [[1, 4, 4], [1, 6, 1], [1, 7, 3], [2, 5, 2], [3, 7, 4], [5, 6, 6]]\n",
    "for j in paths:\n",
    "    print(j)\n",
    "    for k in j:\n",
    "        print(\"k\", k)\n",
    "print(paths[0])"
   ]
  },
  {
   "cell_type": "code",
   "execution_count": null,
   "id": "c9776126",
   "metadata": {},
   "outputs": [],
   "source": []
  }
 ],
 "metadata": {
  "kernelspec": {
   "display_name": "pas",
   "language": "python",
   "name": "pas"
  },
  "language_info": {
   "codemirror_mode": {
    "name": "ipython",
    "version": 3
   },
   "file_extension": ".py",
   "mimetype": "text/x-python",
   "name": "python",
   "nbconvert_exporter": "python",
   "pygments_lexer": "ipython3",
   "version": "3.7.13"
  }
 },
 "nbformat": 4,
 "nbformat_minor": 5
}
